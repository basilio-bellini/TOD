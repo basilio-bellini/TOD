{
  "cells": [
    {
      "cell_type": "markdown",
      "metadata": {
        "id": "UtgqIaivo0kJ"
      },
      "source": [
        "# Pandas"
      ]
    },
    {
      "cell_type": "markdown",
      "metadata": {
        "id": "gGyJcMPjo0kV"
      },
      "source": [
        "## Лабораторная работа №2"
      ]
    },
    {
      "cell_type": "code",
      "source": [
        "import pandas as pd"
      ],
      "metadata": {
        "id": "U2Ng10WjWZjw"
      },
      "execution_count": 2,
      "outputs": []
    },
    {
      "cell_type": "markdown",
      "metadata": {
        "id": "ZmXwWUtpo0kV"
      },
      "source": [
        "### Базовые операции с `DataFrame`"
      ]
    },
    {
      "cell_type": "markdown",
      "metadata": {
        "id": "MSVsrRs1o0kW"
      },
      "source": [
        "1.1 В файлах `recipes_sample.csv` и `reviews_sample.csv` находится информация об рецептах блюд и отзывах на эти рецепты соответственно. Загрузите данные из файлов в виде `pd.DataFrame` с названиями `recipes` и `reviews`. Обратите внимание на корректное считывание столбца с индексами в таблице `reviews` (безымянный столбец)."
      ]
    },
    {
      "cell_type": "code",
      "source": [
        "recipes = pd.read_csv('recipes_sample.csv')\n",
        "reviews = pd.read_csv('reviews_sample.csv',index_col=0)\n",
        "print('Рецепты:\\n',recipes.to_string(max_rows=10, max_colwidth=50),'\\n')\n",
        "print('Отзывы:\\n',reviews.to_string(max_rows=10, max_colwidth=50))"
      ],
      "metadata": {
        "colab": {
          "base_uri": "https://localhost:8080/"
        },
        "id": "scxhtxhlUtW5",
        "outputId": "8778b2d3-63c2-47d2-802e-2b0378f29f88"
      },
      "execution_count": 153,
      "outputs": [
        {
          "output_type": "stream",
          "name": "stdout",
          "text": [
            "Рецепты:\n",
            "                                                name      id  minutes  contributor_id   submitted  n_steps                                        description  n_ingredients\n",
            "0             george s at the cove  black bean soup   44123       90           35193  2002-10-25      NaN  an original recipe created by chef scott meska...           18.0\n",
            "1                healthy for them  yogurt popsicles   67664       10           91970  2003-07-26      NaN  my children and their friends ask for my homem...            NaN\n",
            "2                      i can t believe it s spinach   38798       30            1533  2002-08-29      NaN            these were so go, it surprised even me.            8.0\n",
            "3                              italian  gut busters   35173       45           22724  2002-07-27      NaN  my sister-in-law made these for us at a family...            NaN\n",
            "4          love is in the air  beef fondue   sauces   84797       25            4470  2004-02-23      4.0  i think a fondue is a very romantic casual din...            NaN\n",
            "...                                             ...     ...      ...             ...         ...      ...                                                ...            ...\n",
            "29995  zurie s holey rustic olive and cheddar bread  267661       80          200862  2007-11-25     16.0  this is based on a french recipe but i changed...           10.0\n",
            "29996          zwetschgenkuchen  bavarian plum cake  386977      240          177443  2009-08-24      NaN  this is a traditional fresh plum cake, thought...           11.0\n",
            "29997   zwiebelkuchen   southwest german onion cake  103312       75          161745  2004-11-03      NaN  this is a traditional late summer early fall s...            NaN\n",
            "29998                                   zydeco soup  486161       60          227978  2012-08-29      NaN  this is a delicious soup that i originally fou...            NaN\n",
            "29999        cookies by design   cookies on a stick  298512       29          506822  2008-04-15      9.0  i've heard of the 'cookies by design' company,...           10.0 \n",
            "\n",
            "Отзывы:\n",
            "             user_id  recipe_id        date  rating                                             review\n",
            "370476        21752      57993  2003-05-01       5  Last week whole sides of frozen salmon fillet ...\n",
            "624300       431813     142201  2007-09-16       5  So simple and so tasty!  I used a yellow capsi...\n",
            "187037       400708     252013  2008-01-10       4  Very nice breakfast HH, easy to make and yummy...\n",
            "706134   2001852463     404716  2017-12-11       5  These are a favorite for the holidays and so e...\n",
            "312179        95810     129396  2008-03-14       5  Excellent soup!  The tomato flavor is just gre...\n",
            "...             ...        ...         ...     ...                                                ...\n",
            "1013457     1270706     335534  2009-05-17       4  This recipe was great! I made it last night. I...\n",
            "158736      2282344       8701  2012-06-03       0  This recipe is outstanding. I followed the rec...\n",
            "1059834      689540     222001  2008-04-08       5  Well, we were not a crowd but it was a fabulou...\n",
            "453285   2000242659     354979  2015-06-02       5  I have been a steak eater and dedicated BBQ gr...\n",
            "691207       463435     415599  2010-09-30       5  Wonderful and simple to prepare seasoning blen...\n"
          ]
        }
      ]
    },
    {
      "cell_type": "markdown",
      "metadata": {
        "id": "9aAVFkfUo0kY"
      },
      "source": [
        "1.2 Для каждой из таблиц выведите основные параметры:\n",
        "* количество точек данных (строк);\n",
        "* количество столбцов;\n",
        "* тип данных каждого столбца."
      ]
    },
    {
      "cell_type": "code",
      "source": [
        "print(f'Таблица recipes: \\nСтрок: {len(recipes)} \\nСтолбцов: {len(recipes.count(axis=0))} \\nТипы данных:\\n{recipes.dtypes}\\n')\n",
        "print(f'Таблица reviews: \\nСтрок: {len(reviews)} \\nСтолбцов: {len(reviews.count(axis=0))} \\nТипы данных:\\n{reviews.dtypes}')"
      ],
      "metadata": {
        "colab": {
          "base_uri": "https://localhost:8080/"
        },
        "id": "N6Me9ikNaGiw",
        "outputId": "a4689b1a-7ce9-4bcf-9526-9efdb8772c59"
      },
      "execution_count": 154,
      "outputs": [
        {
          "output_type": "stream",
          "name": "stdout",
          "text": [
            "Таблица recipes: \n",
            "Строк: 30000 \n",
            "Столбцов: 8 \n",
            "Типы данных:\n",
            "name               object\n",
            "id                  int64\n",
            "minutes             int64\n",
            "contributor_id      int64\n",
            "submitted          object\n",
            "n_steps           float64\n",
            "description        object\n",
            "n_ingredients     float64\n",
            "dtype: object\n",
            "\n",
            "Таблица reviews: \n",
            "Строк: 126696 \n",
            "Столбцов: 5 \n",
            "Типы данных:\n",
            "user_id       int64\n",
            "recipe_id     int64\n",
            "date         object\n",
            "rating        int64\n",
            "review       object\n",
            "dtype: object\n"
          ]
        }
      ]
    },
    {
      "cell_type": "markdown",
      "metadata": {
        "id": "9g84_xAwo0kZ"
      },
      "source": [
        "1.3 Исследуйте, в каких столбцах таблиц содержатся пропуски. Посчитайте долю строк, содержащих пропуски, в отношении к общему количеству строк."
      ]
    },
    {
      "cell_type": "code",
      "source": [
        "print('Таблица рецепты: ')\n",
        "print(recipes.isna().sum())\n",
        "print(f'Доля строк, содержащих пропуски: {recipes.isna().any(axis=1).sum()/len(recipes)}')\n",
        "\n",
        "print('\\nТаблица отзывы: ')\n",
        "print(reviews.isna().sum())\n",
        "print(f'Доля строк, содержащих пропуски: {reviews.isna().any(axis=1).sum()/len(reviews)}')"
      ],
      "metadata": {
        "colab": {
          "base_uri": "https://localhost:8080/"
        },
        "id": "bXLxQVAjbEWP",
        "outputId": "95c1915b-677c-4e72-e672-707d97ad6fa2"
      },
      "execution_count": 155,
      "outputs": [
        {
          "output_type": "stream",
          "name": "stdout",
          "text": [
            "Таблица рецепты: \n",
            "name                  0\n",
            "id                    0\n",
            "minutes               0\n",
            "contributor_id        0\n",
            "submitted             0\n",
            "n_steps           11190\n",
            "description         623\n",
            "n_ingredients      8880\n",
            "dtype: int64\n",
            "Доля строк, содержащих пропуски: 0.5684666666666667\n",
            "\n",
            "Таблица отзывы: \n",
            "user_id       0\n",
            "recipe_id     0\n",
            "date          0\n",
            "rating        0\n",
            "review       17\n",
            "dtype: int64\n",
            "Доля строк, содержащих пропуски: 0.00013417945317926376\n"
          ]
        }
      ]
    },
    {
      "cell_type": "markdown",
      "metadata": {
        "id": "hSOWGQ74o0ka"
      },
      "source": [
        "1.4 Рассчитайте среднее значение для каждого из числовых столбцов (где это имеет смысл)."
      ]
    },
    {
      "cell_type": "code",
      "source": [
        "print('Таблица рецепты: ')\n",
        "for column in recipes.select_dtypes(include=[float,int]):\n",
        "  print(f'{column} : {round(recipes[column].mean())}')\n",
        "\n",
        "print('\\nТаблица reviews: ') \n",
        "for column in reviews.select_dtypes(include=[float,int]):\n",
        "  print(f'{column} : {round(reviews[column].mean())}')"
      ],
      "metadata": {
        "colab": {
          "base_uri": "https://localhost:8080/"
        },
        "id": "oJUeTjmAesYe",
        "outputId": "42a67dec-9d2c-42c5-f851-e532a704f336"
      },
      "execution_count": 156,
      "outputs": [
        {
          "output_type": "stream",
          "name": "stdout",
          "text": [
            "Таблица рецепты: \n",
            "id : 221879\n",
            "minutes : 123\n",
            "contributor_id : 5635901\n",
            "n_steps : 10\n",
            "n_ingredients : 9\n",
            "\n",
            "Таблица reviews: \n",
            "user_id : 140801265\n",
            "recipe_id : 160094\n",
            "rating : 4\n"
          ]
        }
      ]
    },
    {
      "cell_type": "markdown",
      "metadata": {
        "id": "fh68oyl6o0kd"
      },
      "source": [
        "1.5 Создайте серию из 10 случайных названий рецептов."
      ]
    },
    {
      "cell_type": "code",
      "source": [
        "print(recipes['name'].sample(10))"
      ],
      "metadata": {
        "colab": {
          "base_uri": "https://localhost:8080/"
        },
        "id": "aBuaAOcogJBj",
        "outputId": "54bcbb8d-d9a6-4111-bbe5-4a49adff9543"
      },
      "execution_count": 157,
      "outputs": [
        {
          "output_type": "stream",
          "name": "stdout",
          "text": [
            "15378                   kindersely road house ribs\n",
            "4135               burritos    simple  plain  easy\n",
            "27976                            trifle in a glass\n",
            "12222                          golden easter punch\n",
            "6429               chocolate and hazelnut biscotti\n",
            "28407                   unbelievable cheese crisps\n",
            "22957                                   rose cream\n",
            "29213                             whiskey marinade\n",
            "6134     chicken mandarin orange spread sandwiches\n",
            "12064         gingered shrimp with corn   broccoli\n",
            "Name: name, dtype: object\n"
          ]
        }
      ]
    },
    {
      "cell_type": "markdown",
      "metadata": {
        "id": "AWM4odKSo0kf"
      },
      "source": [
        "1.6 Измените индекс в таблице `reviews`, пронумеровав строки, начиная с нуля."
      ]
    },
    {
      "cell_type": "code",
      "source": [
        "reviews = reviews.reset_index(drop=True)\n",
        "print(reviews.to_string(max_rows=10, max_colwidth=50))"
      ],
      "metadata": {
        "colab": {
          "base_uri": "https://localhost:8080/"
        },
        "id": "ApEJYC0Cgsb5",
        "outputId": "2203d872-9e53-4e50-ba48-0208a4c31af7"
      },
      "execution_count": 158,
      "outputs": [
        {
          "output_type": "stream",
          "name": "stdout",
          "text": [
            "           user_id  recipe_id        date  rating                                             review\n",
            "0            21752      57993  2003-05-01       5  Last week whole sides of frozen salmon fillet ...\n",
            "1           431813     142201  2007-09-16       5  So simple and so tasty!  I used a yellow capsi...\n",
            "2           400708     252013  2008-01-10       4  Very nice breakfast HH, easy to make and yummy...\n",
            "3       2001852463     404716  2017-12-11       5  These are a favorite for the holidays and so e...\n",
            "4            95810     129396  2008-03-14       5  Excellent soup!  The tomato flavor is just gre...\n",
            "...            ...        ...         ...     ...                                                ...\n",
            "126691     1270706     335534  2009-05-17       4  This recipe was great! I made it last night. I...\n",
            "126692     2282344       8701  2012-06-03       0  This recipe is outstanding. I followed the rec...\n",
            "126693      689540     222001  2008-04-08       5  Well, we were not a crowd but it was a fabulou...\n",
            "126694  2000242659     354979  2015-06-02       5  I have been a steak eater and dedicated BBQ gr...\n",
            "126695      463435     415599  2010-09-30       5  Wonderful and simple to prepare seasoning blen...\n"
          ]
        }
      ]
    },
    {
      "cell_type": "markdown",
      "metadata": {
        "id": "HMcJ0ZsFo0kg"
      },
      "source": [
        "1.7 Выведите информацию о рецептах, время выполнения которых не больше 20 минут и кол-во ингредиентов в которых не больше 5."
      ]
    },
    {
      "cell_type": "code",
      "source": [
        "print(recipes.loc[(recipes['minutes']<=20)&(recipes['n_ingredients']<=5)].to_string(max_rows=10, max_colwidth=50))"
      ],
      "metadata": {
        "colab": {
          "base_uri": "https://localhost:8080/"
        },
        "id": "VVPJGwVahagN",
        "outputId": "39d93315-67db-4707-b82d-aaf41ff72ae5"
      },
      "execution_count": 159,
      "outputs": [
        {
          "output_type": "stream",
          "name": "stdout",
          "text": [
            "                                                    name      id  minutes  contributor_id   submitted  n_steps                                        description  n_ingredients\n",
            "28                                   quick biscuit bread  302399       20          213909  2008-05-06     11.0  this is a wonderful quick bread to make as an ...            5.0\n",
            "60                         peas  fit for a king or queen  303944       20          213909  2008-05-16      NaN  this recipe is so simple and the flavors are s...            5.0\n",
            "90                     hawaiian sunrise           mimosa  100837        5           58104  2004-09-29      4.0  pineapple mimosa was changed to hawaiian sunri...            3.0\n",
            "91            tasty dish s   banana pudding in 2 minutes  286484        2           47892  2008-02-13      NaN  \"mmmm, i love bananas!\" a --tasty dish-- origi...            4.0\n",
            "94                                    1 minute meatballs   11361       13            4470  2001-09-03      NaN  this is a real short cut for cooks in a hurry....            2.0\n",
            "...                                                  ...     ...      ...             ...         ...      ...                                                ...            ...\n",
            "29873  zip and steam red potatoes with butter and garlic  304922       13          724218  2008-05-27      9.0  i haven't tried this yet, but i am going to so...            5.0\n",
            "29874                          ziplock vanilla ice cream   74250       10           24386  2003-10-29      8.0  a fun thing for kids to do. may want to use mi...            3.0\n",
            "29905                      zucchini and corn with cheese  256177       15          305531  2007-09-29      4.0  from betty crocker fresh spring recipes. i lik...            5.0\n",
            "29980               zucchini with jalapeno monterey jack  320622       10          305531  2008-08-20      3.0                                  simple and yummy!            3.0\n",
            "29983                          zucchini with serrano ham  162411       15          152500  2006-03-31      6.0  this dish is from tim malzer, a german chef wh...            5.0\n"
          ]
        }
      ]
    },
    {
      "cell_type": "markdown",
      "metadata": {
        "id": "lmBAb788o0kh"
      },
      "source": [
        "### Работа с датами в `pandas`"
      ]
    },
    {
      "cell_type": "markdown",
      "metadata": {
        "id": "kgtdses0o0kh"
      },
      "source": [
        "2.1 Преобразуйте столбец `submitted` из таблицы `recipes` в формат времени. Модифицируйте решение задачи 1.1 так, чтобы считать столбец сразу в нужном формате."
      ]
    },
    {
      "cell_type": "code",
      "source": [
        "recipes['submitted']=pd.to_datetime(recipes['submitted'])\n",
        "print(recipes.dtypes)"
      ],
      "metadata": {
        "colab": {
          "base_uri": "https://localhost:8080/"
        },
        "id": "qEHr4n-8jlMy",
        "outputId": "c8283413-7ca0-4276-cd90-3fea37bb8042"
      },
      "execution_count": 160,
      "outputs": [
        {
          "output_type": "stream",
          "name": "stdout",
          "text": [
            "name                      object\n",
            "id                         int64\n",
            "minutes                    int64\n",
            "contributor_id             int64\n",
            "submitted         datetime64[ns]\n",
            "n_steps                  float64\n",
            "description               object\n",
            "n_ingredients            float64\n",
            "dtype: object\n"
          ]
        }
      ]
    },
    {
      "cell_type": "markdown",
      "metadata": {
        "id": "FIe9y1uvo0ki"
      },
      "source": [
        "2.2 Выведите информацию о рецептах, добавленных в датасет не позже 2010 года."
      ]
    },
    {
      "cell_type": "code",
      "source": [
        "print(recipes[recipes['submitted'].dt.year<=2010].to_string(max_rows=10, max_colwidth=50))"
      ],
      "metadata": {
        "colab": {
          "base_uri": "https://localhost:8080/"
        },
        "id": "74XgwRQKl6Ub",
        "outputId": "617940e6-148c-4687-8783-17596f351aa0"
      },
      "execution_count": 161,
      "outputs": [
        {
          "output_type": "stream",
          "name": "stdout",
          "text": [
            "                                               name      id  minutes  contributor_id  submitted  n_steps                                        description  n_ingredients\n",
            "0             george s at the cove  black bean soup   44123       90           35193 2002-10-25      NaN  an original recipe created by chef scott meska...           18.0\n",
            "1                healthy for them  yogurt popsicles   67664       10           91970 2003-07-26      NaN  my children and their friends ask for my homem...            NaN\n",
            "2                      i can t believe it s spinach   38798       30            1533 2002-08-29      NaN            these were so go, it surprised even me.            8.0\n",
            "3                              italian  gut busters   35173       45           22724 2002-07-27      NaN  my sister-in-law made these for us at a family...            NaN\n",
            "4          love is in the air  beef fondue   sauces   84797       25            4470 2004-02-23      4.0  i think a fondue is a very romantic casual din...            NaN\n",
            "...                                             ...     ...      ...             ...        ...      ...                                                ...            ...\n",
            "29993                     zuni caf zucchini pickles  316950     2895           62264 2008-07-31      NaN  refrigerator pickles for some of the zucchini ...            8.0\n",
            "29995  zurie s holey rustic olive and cheddar bread  267661       80          200862 2007-11-25     16.0  this is based on a french recipe but i changed...           10.0\n",
            "29996          zwetschgenkuchen  bavarian plum cake  386977      240          177443 2009-08-24      NaN  this is a traditional fresh plum cake, thought...           11.0\n",
            "29997   zwiebelkuchen   southwest german onion cake  103312       75          161745 2004-11-03      NaN  this is a traditional late summer early fall s...            NaN\n",
            "29999        cookies by design   cookies on a stick  298512       29          506822 2008-04-15      9.0  i've heard of the 'cookies by design' company,...           10.0\n"
          ]
        }
      ]
    },
    {
      "cell_type": "markdown",
      "metadata": {
        "id": "pm2FdPCjo0kj"
      },
      "source": [
        "### Работа со строковыми данными в `pandas`"
      ]
    },
    {
      "cell_type": "markdown",
      "metadata": {
        "id": "tT4jCdDUo0kj"
      },
      "source": [
        "3.1  Добавьте в таблицу `recipes` столбец `description_length`, в котором хранится длина описания рецепта из столбца `description`."
      ]
    },
    {
      "cell_type": "code",
      "source": [
        "recipes['description_length'] = recipes['description'].str.len()\n",
        "print(recipes.to_string(max_rows=10, max_colwidth=50))"
      ],
      "metadata": {
        "colab": {
          "base_uri": "https://localhost:8080/"
        },
        "id": "-GTUuaubnVXh",
        "outputId": "1bc91ff3-ef8e-4793-a8cf-5da8f04335c9"
      },
      "execution_count": 162,
      "outputs": [
        {
          "output_type": "stream",
          "name": "stdout",
          "text": [
            "                                               name      id  minutes  contributor_id  submitted  n_steps                                        description  n_ingredients  description_length\n",
            "0             george s at the cove  black bean soup   44123       90           35193 2002-10-25      NaN  an original recipe created by chef scott meska...           18.0               330.0\n",
            "1                healthy for them  yogurt popsicles   67664       10           91970 2003-07-26      NaN  my children and their friends ask for my homem...            NaN               255.0\n",
            "2                      i can t believe it s spinach   38798       30            1533 2002-08-29      NaN            these were so go, it surprised even me.            8.0                39.0\n",
            "3                              italian  gut busters   35173       45           22724 2002-07-27      NaN  my sister-in-law made these for us at a family...            NaN               154.0\n",
            "4          love is in the air  beef fondue   sauces   84797       25            4470 2004-02-23      4.0  i think a fondue is a very romantic casual din...            NaN               587.0\n",
            "...                                             ...     ...      ...             ...        ...      ...                                                ...            ...                 ...\n",
            "29995  zurie s holey rustic olive and cheddar bread  267661       80          200862 2007-11-25     16.0  this is based on a french recipe but i changed...           10.0               484.0\n",
            "29996          zwetschgenkuchen  bavarian plum cake  386977      240          177443 2009-08-24      NaN  this is a traditional fresh plum cake, thought...           11.0               286.0\n",
            "29997   zwiebelkuchen   southwest german onion cake  103312       75          161745 2004-11-03      NaN  this is a traditional late summer early fall s...            NaN               311.0\n",
            "29998                                   zydeco soup  486161       60          227978 2012-08-29      NaN  this is a delicious soup that i originally fou...            NaN               648.0\n",
            "29999        cookies by design   cookies on a stick  298512       29          506822 2008-04-15      9.0  i've heard of the 'cookies by design' company,...           10.0               125.0\n"
          ]
        }
      ]
    },
    {
      "cell_type": "markdown",
      "metadata": {
        "id": "iA2I5t9-o0kj"
      },
      "source": [
        "3.2 Измените название каждого рецепта в таблице `recipes` таким образом, чтобы каждое слово в названии начиналось с прописной буквы."
      ]
    },
    {
      "cell_type": "code",
      "source": [
        "recipes['name'] = recipes['name'].str.title()\n",
        "print(recipes.to_string(max_rows=10, max_colwidth=50))"
      ],
      "metadata": {
        "colab": {
          "base_uri": "https://localhost:8080/"
        },
        "id": "2hjaNn-EocTy",
        "outputId": "9f53ea47-b7b0-40ee-8ef9-37e30a45f9be"
      },
      "execution_count": 163,
      "outputs": [
        {
          "output_type": "stream",
          "name": "stdout",
          "text": [
            "                                               name      id  minutes  contributor_id  submitted  n_steps                                        description  n_ingredients  description_length\n",
            "0             George S At The Cove  Black Bean Soup   44123       90           35193 2002-10-25      NaN  an original recipe created by chef scott meska...           18.0               330.0\n",
            "1                Healthy For Them  Yogurt Popsicles   67664       10           91970 2003-07-26      NaN  my children and their friends ask for my homem...            NaN               255.0\n",
            "2                      I Can T Believe It S Spinach   38798       30            1533 2002-08-29      NaN            these were so go, it surprised even me.            8.0                39.0\n",
            "3                              Italian  Gut Busters   35173       45           22724 2002-07-27      NaN  my sister-in-law made these for us at a family...            NaN               154.0\n",
            "4          Love Is In The Air  Beef Fondue   Sauces   84797       25            4470 2004-02-23      4.0  i think a fondue is a very romantic casual din...            NaN               587.0\n",
            "...                                             ...     ...      ...             ...        ...      ...                                                ...            ...                 ...\n",
            "29995  Zurie S Holey Rustic Olive And Cheddar Bread  267661       80          200862 2007-11-25     16.0  this is based on a french recipe but i changed...           10.0               484.0\n",
            "29996          Zwetschgenkuchen  Bavarian Plum Cake  386977      240          177443 2009-08-24      NaN  this is a traditional fresh plum cake, thought...           11.0               286.0\n",
            "29997   Zwiebelkuchen   Southwest German Onion Cake  103312       75          161745 2004-11-03      NaN  this is a traditional late summer early fall s...            NaN               311.0\n",
            "29998                                   Zydeco Soup  486161       60          227978 2012-08-29      NaN  this is a delicious soup that i originally fou...            NaN               648.0\n",
            "29999        Cookies By Design   Cookies On A Stick  298512       29          506822 2008-04-15      9.0  i've heard of the 'cookies by design' company,...           10.0               125.0\n"
          ]
        }
      ]
    },
    {
      "cell_type": "markdown",
      "metadata": {
        "id": "A5T2Menfo0kk"
      },
      "source": [
        "3.3 Добавьте в таблицу `recipes` столбец `name_word_count`, в котором хранится количество слов из названии рецепта (считайте, что слова в названии разделяются только пробелами). Обратите внимание, что между словами может располагаться несколько пробелов подряд."
      ]
    },
    {
      "cell_type": "code",
      "source": [
        "recipes['name_word_count']=recipes['name'].str.split().str.len()\n",
        "print(recipes.to_string(max_rows=10, max_colwidth=50))"
      ],
      "metadata": {
        "colab": {
          "base_uri": "https://localhost:8080/"
        },
        "id": "5fcSK9QQpPr2",
        "outputId": "34352183-f3e1-4c7e-9a3f-78eec3013cb7"
      },
      "execution_count": 164,
      "outputs": [
        {
          "output_type": "stream",
          "name": "stdout",
          "text": [
            "                                               name      id  minutes  contributor_id  submitted  n_steps                                        description  n_ingredients  description_length  name_word_count\n",
            "0             George S At The Cove  Black Bean Soup   44123       90           35193 2002-10-25      NaN  an original recipe created by chef scott meska...           18.0               330.0                8\n",
            "1                Healthy For Them  Yogurt Popsicles   67664       10           91970 2003-07-26      NaN  my children and their friends ask for my homem...            NaN               255.0                5\n",
            "2                      I Can T Believe It S Spinach   38798       30            1533 2002-08-29      NaN            these were so go, it surprised even me.            8.0                39.0                7\n",
            "3                              Italian  Gut Busters   35173       45           22724 2002-07-27      NaN  my sister-in-law made these for us at a family...            NaN               154.0                3\n",
            "4          Love Is In The Air  Beef Fondue   Sauces   84797       25            4470 2004-02-23      4.0  i think a fondue is a very romantic casual din...            NaN               587.0                8\n",
            "...                                             ...     ...      ...             ...        ...      ...                                                ...            ...                 ...              ...\n",
            "29995  Zurie S Holey Rustic Olive And Cheddar Bread  267661       80          200862 2007-11-25     16.0  this is based on a french recipe but i changed...           10.0               484.0                8\n",
            "29996          Zwetschgenkuchen  Bavarian Plum Cake  386977      240          177443 2009-08-24      NaN  this is a traditional fresh plum cake, thought...           11.0               286.0                4\n",
            "29997   Zwiebelkuchen   Southwest German Onion Cake  103312       75          161745 2004-11-03      NaN  this is a traditional late summer early fall s...            NaN               311.0                5\n",
            "29998                                   Zydeco Soup  486161       60          227978 2012-08-29      NaN  this is a delicious soup that i originally fou...            NaN               648.0                2\n",
            "29999        Cookies By Design   Cookies On A Stick  298512       29          506822 2008-04-15      9.0  i've heard of the 'cookies by design' company,...           10.0               125.0                7\n"
          ]
        }
      ]
    },
    {
      "cell_type": "markdown",
      "metadata": {
        "id": "H0JukmXfo0kk"
      },
      "source": [
        "### Группировки таблиц `pd.DataFrame`"
      ]
    },
    {
      "cell_type": "markdown",
      "metadata": {
        "id": "yfgSL5hso0kl"
      },
      "source": [
        "4.1 Посчитайте количество рецептов, представленных каждым из участников (`contributor_id`). Какой участник добавил максимальное кол-во рецептов?"
      ]
    },
    {
      "cell_type": "code",
      "source": [
        "id_count=recipes.pivot_table(columns=['contributor_id'], aggfunc='size')\n",
        "print(id_count)\n",
        "print('Максимальное количество рецептов у:',id_count.idxmax())"
      ],
      "metadata": {
        "colab": {
          "base_uri": "https://localhost:8080/"
        },
        "id": "DPp0x30JskS0",
        "outputId": "7e0b2144-e235-4573-e19d-5d6c5bc91393"
      },
      "execution_count": 165,
      "outputs": [
        {
          "output_type": "stream",
          "name": "stdout",
          "text": [
            "contributor_id\n",
            "1530            5\n",
            "1533          186\n",
            "1534           50\n",
            "1535           40\n",
            "1538            8\n",
            "             ... \n",
            "2001968497      2\n",
            "2002059754      1\n",
            "2002234079      1\n",
            "2002234259      1\n",
            "2002247884      1\n",
            "Length: 8404, dtype: int64\n",
            "Максимальное количество рецептов у: 89831\n"
          ]
        }
      ]
    },
    {
      "cell_type": "markdown",
      "metadata": {
        "id": "DN6lUtL-o0kl"
      },
      "source": [
        "4.2 Посчитайте средний рейтинг к каждому из рецептов. Для скольких рецептов отсутствуют отзывы? Обратите внимание, что отзыв с нулевым рейтингом или не заполненным текстовым описанием не считается отсутствующим."
      ]
    },
    {
      "cell_type": "code",
      "source": [
        "ratings = reviews[['recipe_id','rating']].groupby('recipe_id').mean()\n",
        "print(ratings)\n",
        "print('Количество рецептов с отсутствующими отзывами: ', reviews.shape[0] - ratings.shape[0])"
      ],
      "metadata": {
        "colab": {
          "base_uri": "https://localhost:8080/"
        },
        "id": "6-YiYI_Gv5g2",
        "outputId": "9bbb2369-707c-4888-e04d-e9338c61b9dc"
      },
      "execution_count": 172,
      "outputs": [
        {
          "output_type": "stream",
          "name": "stdout",
          "text": [
            "             rating\n",
            "recipe_id          \n",
            "48         1.000000\n",
            "55         4.750000\n",
            "66         4.944444\n",
            "91         4.750000\n",
            "94         5.000000\n",
            "...             ...\n",
            "536547     5.000000\n",
            "536610     0.000000\n",
            "536728     4.000000\n",
            "536729     4.750000\n",
            "536747     0.000000\n",
            "\n",
            "[28100 rows x 1 columns]\n",
            "Количество рецептов с отсутствующими отзывами:  98596\n"
          ]
        }
      ]
    },
    {
      "cell_type": "markdown",
      "metadata": {
        "id": "6J91BZ7bo0kl"
      },
      "source": [
        "4.3 Посчитайте количество рецептов с разбивкой по годам создания."
      ]
    },
    {
      "cell_type": "code",
      "source": [
        "print(recipes.groupby(pd.Grouper(key='submitted',freq='1Y')).size())"
      ],
      "metadata": {
        "colab": {
          "base_uri": "https://localhost:8080/"
        },
        "id": "4kdzO9lxx-Wp",
        "outputId": "ef35abf1-cc76-4847-e9ea-831ce7623434"
      },
      "execution_count": 175,
      "outputs": [
        {
          "output_type": "stream",
          "name": "stdout",
          "text": [
            "submitted\n",
            "1999-12-31     275\n",
            "2000-12-31     104\n",
            "2001-12-31     589\n",
            "2002-12-31    2644\n",
            "2003-12-31    2334\n",
            "2004-12-31    2153\n",
            "2005-12-31    3130\n",
            "2006-12-31    3473\n",
            "2007-12-31    4429\n",
            "2008-12-31    4029\n",
            "2009-12-31    2963\n",
            "2010-12-31    1538\n",
            "2011-12-31     922\n",
            "2012-12-31     659\n",
            "2013-12-31     490\n",
            "2014-12-31     139\n",
            "2015-12-31      42\n",
            "2016-12-31      24\n",
            "2017-12-31      39\n",
            "2018-12-31      24\n",
            "Freq: A-DEC, dtype: int64\n",
            "1999-08-06 00:00:00\n"
          ]
        }
      ]
    },
    {
      "cell_type": "markdown",
      "metadata": {
        "id": "gnpLJK5ko0km"
      },
      "source": [
        "### Объединение таблиц `pd.DataFrame`"
      ]
    },
    {
      "cell_type": "markdown",
      "metadata": {
        "id": "0seSqMaWo0km"
      },
      "source": [
        "5.1 При помощи объединения таблиц, создайте `DataFrame`, состоящий из четырех столбцов: `id`, `name`, `user_id`, `rating`. Рецепты, на которые не оставлен ни один отзыв, должны отсутствовать в полученной таблице. Подтвердите правильность работы вашего кода, выбрав рецепт, не имеющий отзывов, и попытавшись найти строку, соответствующую этому рецепту, в полученном `DataFrame`."
      ]
    },
    {
      "cell_type": "code",
      "source": [
        "newtable_1 = pd.merge(recipes[['id','name']],reviews[['recipe_id','user_id','rating']],left_on='id',right_on='recipe_id',how='inner')\n",
        "del newtable_1['recipe_id']\n",
        "print(newtable_1)"
      ],
      "metadata": {
        "colab": {
          "base_uri": "https://localhost:8080/"
        },
        "id": "Ir78vGY3yt47",
        "outputId": "9afbbe77-78f2-4088-ac82-3903515bb4d8"
      },
      "execution_count": 205,
      "outputs": [
        {
          "output_type": "stream",
          "name": "stdout",
          "text": [
            "            id                                    name  user_id  rating\n",
            "0        44123   George S At The Cove  Black Bean Soup   743566       5\n",
            "1        44123   George S At The Cove  Black Bean Soup    76503       5\n",
            "2        44123   George S At The Cove  Black Bean Soup    34206       5\n",
            "3        67664      Healthy For Them  Yogurt Popsicles   494084       5\n",
            "4        67664      Healthy For Them  Yogurt Popsicles   303445       5\n",
            "...        ...                                     ...      ...     ...\n",
            "126691  486161                             Zydeco Soup   305531       5\n",
            "126692  486161                             Zydeco Soup  1271506       5\n",
            "126693  486161                             Zydeco Soup   724631       5\n",
            "126694  486161                             Zydeco Soup   133174       5\n",
            "126695  298512  Cookies By Design   Cookies On A Stick   804234       1\n",
            "\n",
            "[126696 rows x 4 columns]\n"
          ]
        }
      ]
    },
    {
      "cell_type": "markdown",
      "metadata": {
        "id": "rNyeNIqZo0km"
      },
      "source": [
        "5.2 При помощи объединения таблиц и группировок, создайте `DataFrame`, состоящий из трех столбцов: `recipe_id`, `name`, `review_count`, где столбец `review_count` содержит кол-во отзывов, оставленных на рецепт `recipe_id`. У рецептов, на которые не оставлен ни один отзыв, в столбце `review_count` должен быть указан 0. Подтвердите правильность работы вашего кода, выбрав рецепт, не имеющий отзывов, и найдя строку, соответствующую этому рецепту, в полученном `DataFrame`."
      ]
    },
    {
      "cell_type": "code",
      "source": [
        "newtable_2 = recipes.merge(reviews,left_on='id',right_on='recipe_id',how='left')\n",
        "newtable_2 = newtable_2[['recipe_id','name']]\n",
        "print(newtable_2.groupby(['recipe_id','name']).size().to_frame(name='review_count'))"
      ],
      "metadata": {
        "colab": {
          "base_uri": "https://localhost:8080/"
        },
        "id": "C5gSo9GD3DqR",
        "outputId": "066caea5-8d7a-4b96-cfee-88094e6edbfa"
      },
      "execution_count": 208,
      "outputs": [
        {
          "output_type": "stream",
          "name": "stdout",
          "text": [
            "                                                      review_count\n",
            "recipe_id name                                                    \n",
            "48.0      Boston Cream Pie                                       2\n",
            "55.0      Betty Crocker S Southwestern Guacamole Dip             4\n",
            "66.0      Black Coffee Barbecue Sauce                           18\n",
            "91.0      Brown Rice And Vegetable Pilaf                         4\n",
            "94.0      Blueberry Buttertarts                                  4\n",
            "...                                                            ...\n",
            "536547.0  Cauliflower Ceviche                                    1\n",
            "536610.0  Miracle Home Made Puff Pastry                          1\n",
            "536728.0  Gluten Free  Vegemite                                  1\n",
            "536729.0  Creole Watermelon Feta Salad                           4\n",
            "536747.0  Lemon Pom Pom Cake                                     4\n",
            "\n",
            "[28100 rows x 1 columns]\n"
          ]
        }
      ]
    },
    {
      "cell_type": "markdown",
      "metadata": {
        "id": "RAkJDZqTo0kn"
      },
      "source": [
        "### Сохранение таблиц `pd.DataFrame`"
      ]
    },
    {
      "cell_type": "markdown",
      "metadata": {
        "id": "r0LfMQK2o0ko"
      },
      "source": [
        "6.1 Отсортируйте таблицу в порядке убывания величины столбца `name_word_count` и сохраните результаты выполнения заданий 3.1-3.3 в csv файл. "
      ]
    },
    {
      "cell_type": "code",
      "source": [
        "sorted_word_count = recipes.sort_values('name_word_count',ascending=False)\n",
        "print(sorted_word_count.to_string(max_rows=10, max_colwidth=50))"
      ],
      "metadata": {
        "colab": {
          "base_uri": "https://localhost:8080/"
        },
        "id": "EcdNgP0E3aRm",
        "outputId": "e60fe6de-b01b-4e3f-acd2-e76112c80e49"
      },
      "execution_count": 210,
      "outputs": [
        {
          "output_type": "stream",
          "name": "stdout",
          "text": [
            "                                                    name      id  minutes  contributor_id  submitted  n_steps                                        description  n_ingredients  description_length  name_word_count\n",
            "26223  Subru Uncle S Whole Green Moong Dal I Ll Be Ma...   77188       95            6357 2003-11-21      NaN  my dad and mom quite enjoy this lentil curry. ...           15.0               343.0               15\n",
            "28083  Tsr Version Of T G I  Friday S Black Bean Soup...  102274       75           74652 2004-10-19      9.0  from www.topsecretrecipes.com i got this copyc...           16.0               436.0               14\n",
            "26222  Subru Uncle S Toor Ki Dal Sindhi Style  Dad  M...   76908       65            6357 2003-11-18     29.0  this is the lentil curry that subru uncle(our ...           15.0              1087.0               14\n",
            "27876  Top Secret Recipes Version Of  I H O P  Griddl...  113346       20          175727 2005-03-14      5.0  this recipe is top secret recipes version of i...            9.0               129.0               14\n",
            "5734   Chicken Curry Or  Cat S Vomit On A Bed Of Magg...  294898       30          802799 2008-03-28     11.0  an old family recipe that's easy to make since...           12.0               144.0               13\n",
            "...                                                  ...     ...      ...             ...        ...      ...                                                ...            ...                 ...              ...\n",
            "3253                                          Blackmoons  323195      430          415934 2008-09-04      5.0  my mom was a newlywed in the 1950s when she fo...            NaN               389.0                1\n",
            "4138                                         Bushwhacker  156521       10          177392 2006-02-17      1.0  this drink is an excellent after dinner drink ...            6.0               124.0                1\n",
            "2357                                            Basbousa   12957       60           18391 2001-10-20      NaN  this is a traditional middle eastern dessert. ...            NaN                78.0                1\n",
            "15052                                          Josefinas  264859       20          498271 2007-11-11      7.0  from the junior league of corpus christi tx, t...            NaN                92.0                1\n",
            "4710                                            Caramels  143615       30          212088 2005-11-02      NaN  i've been making these at christmas time for y...            6.0               341.0                1\n"
          ]
        }
      ]
    },
    {
      "cell_type": "markdown",
      "metadata": {
        "id": "d4IJy0Reo0kq"
      },
      "source": [
        "6.2 Воспользовавшись `pd.ExcelWriter`, cохраните результаты 5.1 и 5.2 в файл: на лист с названием `Рецепты с оценками` сохраните результаты выполнения 5.1; на лист с названием `Количество отзывов по рецептам` сохраните результаты выполнения 5.2."
      ]
    },
    {
      "cell_type": "code",
      "source": [
        "new_excel = {'Рецепты с оценкой': newtable_1, 'Количество отзывов по рецептам': newtable_2}\n",
        "writer = pd.ExcelWriter('no6-2.xlsx')\n",
        "for sheet_name in new_excel.keys():\n",
        "    new_excel[sheet_name].to_excel(writer, sheet_name=sheet_name, index=False)\n",
        "writer.save()"
      ],
      "metadata": {
        "id": "rx--Mope6tlR"
      },
      "execution_count": 222,
      "outputs": []
    },
    {
      "cell_type": "code",
      "source": [
        "print(pd.read_excel('no6-2.xlsx', sheet_name=['Рецепты с оценкой', 'Количество отзывов по рецептам'])['Рецепты с оценкой'])"
      ],
      "metadata": {
        "colab": {
          "base_uri": "https://localhost:8080/"
        },
        "id": "3p8uB2QX5wlj",
        "outputId": "e55489af-1fb7-4a6b-80e8-2ae99cbf84e1"
      },
      "execution_count": 223,
      "outputs": [
        {
          "output_type": "stream",
          "name": "stdout",
          "text": [
            "            id                                    name  user_id  rating\n",
            "0        44123   George S At The Cove  Black Bean Soup   743566       5\n",
            "1        44123   George S At The Cove  Black Bean Soup    76503       5\n",
            "2        44123   George S At The Cove  Black Bean Soup    34206       5\n",
            "3        67664      Healthy For Them  Yogurt Popsicles   494084       5\n",
            "4        67664      Healthy For Them  Yogurt Popsicles   303445       5\n",
            "...        ...                                     ...      ...     ...\n",
            "126691  486161                             Zydeco Soup   305531       5\n",
            "126692  486161                             Zydeco Soup  1271506       5\n",
            "126693  486161                             Zydeco Soup   724631       5\n",
            "126694  486161                             Zydeco Soup   133174       5\n",
            "126695  298512  Cookies By Design   Cookies On A Stick   804234       1\n",
            "\n",
            "[126696 rows x 4 columns]\n"
          ]
        }
      ]
    },
    {
      "cell_type": "code",
      "source": [
        "print(pd.read_excel('no6-2.xlsx', sheet_name=['Рецепты с оценкой', 'Количество отзывов по рецептам'])['Количество отзывов по рецептам'])"
      ],
      "metadata": {
        "colab": {
          "base_uri": "https://localhost:8080/"
        },
        "id": "MLezPFHI5ws0",
        "outputId": "5f15cec4-15ad-47f4-fd7e-05d4bd07f06a"
      },
      "execution_count": 224,
      "outputs": [
        {
          "output_type": "stream",
          "name": "stdout",
          "text": [
            "        recipe_id                                    name\n",
            "0         44123.0   George S At The Cove  Black Bean Soup\n",
            "1         44123.0   George S At The Cove  Black Bean Soup\n",
            "2         44123.0   George S At The Cove  Black Bean Soup\n",
            "3         67664.0      Healthy For Them  Yogurt Popsicles\n",
            "4         67664.0      Healthy For Them  Yogurt Popsicles\n",
            "...           ...                                     ...\n",
            "128591   486161.0                             Zydeco Soup\n",
            "128592   486161.0                             Zydeco Soup\n",
            "128593   486161.0                             Zydeco Soup\n",
            "128594   486161.0                             Zydeco Soup\n",
            "128595   298512.0  Cookies By Design   Cookies On A Stick\n",
            "\n",
            "[128596 rows x 2 columns]\n"
          ]
        }
      ]
    }
  ],
  "metadata": {
    "kernelspec": {
      "display_name": "Python 3",
      "language": "python",
      "name": "python3"
    },
    "language_info": {
      "codemirror_mode": {
        "name": "ipython",
        "version": 3
      },
      "file_extension": ".py",
      "mimetype": "text/x-python",
      "name": "python",
      "nbconvert_exporter": "python",
      "pygments_lexer": "ipython3",
      "version": "3.7.4"
    },
    "colab": {
      "provenance": []
    }
  },
  "nbformat": 4,
  "nbformat_minor": 0
}