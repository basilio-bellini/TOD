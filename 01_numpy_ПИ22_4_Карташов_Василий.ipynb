{
  "cells": [
    {
      "cell_type": "markdown",
      "source": [],
      "metadata": {
        "id": "ngpoOy-LEN-K"
      }
    },
    {
      "cell_type": "markdown",
      "metadata": {
        "id": "giQruB_39ETO"
      },
      "source": [
        "# Numpy"
      ]
    },
    {
      "cell_type": "markdown",
      "metadata": {
        "id": "mELYaJOY9ETR"
      },
      "source": [
        "Материалы:\n",
        "* Макрушин С.В. \"Лекция 1: Библиотека Numpy\"\n",
        "* https://numpy.org/doc/stable/user/index.html\n",
        "* https://numpy.org/doc/stable/reference/index.html"
      ]
    },
    {
      "cell_type": "markdown",
      "metadata": {
        "id": "OM4IKtPD9ETS"
      },
      "source": [
        "## Задачи для совместного разбора"
      ]
    },
    {
      "cell_type": "code",
      "source": [
        "import numpy as np"
      ],
      "metadata": {
        "id": "7lf2xklUOLvV"
      },
      "execution_count": 1,
      "outputs": []
    },
    {
      "cell_type": "markdown",
      "metadata": {
        "id": "I2dM_y5m9ETS"
      },
      "source": [
        "1. Сгенерировать двухмерный массив `arr` размерности (4, 7), состоящий из случайных действительных чисел, равномерно распределенных в диапазоне от 0 до 20. Нормализовать значения массива с помощью преобразования вида  $𝑎𝑥+𝑏$  так, что после нормализации максимальный элемент масcива будет равен 1.0, минимальный 0.0"
      ]
    },
    {
      "cell_type": "code",
      "execution_count": null,
      "metadata": {
        "id": "hGiYcNg_9ETT",
        "colab": {
          "base_uri": "https://localhost:8080/"
        },
        "outputId": "0391bb2c-2550-4287-9494-491f2a1f5368"
      },
      "outputs": [
        {
          "output_type": "stream",
          "name": "stdout",
          "text": [
            "До нормализации:\n",
            " [[20 12  7  8  8 13  1]\n",
            " [ 9 13 15 15 14 19  9]\n",
            " [ 5 16 17 13 12  5  7]\n",
            " [ 4  7  1  7  8 14  2]] \n",
            "\n",
            "После нормализации:\n",
            " [[1.         0.57894737 0.31578947 0.36842105 0.36842105 0.63157895\n",
            "  0.        ]\n",
            " [0.42105263 0.63157895 0.73684211 0.73684211 0.68421053 0.94736842\n",
            "  0.42105263]\n",
            " [0.21052632 0.78947368 0.84210526 0.63157895 0.57894737 0.21052632\n",
            "  0.31578947]\n",
            " [0.15789474 0.31578947 0.         0.31578947 0.36842105 0.68421053\n",
            "  0.05263158]]\n"
          ]
        }
      ],
      "source": [
        "arr=np.random.randint(0, 21, (4, 7))\n",
        "print('До нормализации:\\n', arr, '\\n')\n",
        "normalized_arr = (arr-np.min(arr))/(np.max(arr)-np.min(arr))\n",
        "print('После нормализации:\\n',normalized_arr)"
      ]
    },
    {
      "cell_type": "markdown",
      "metadata": {
        "id": "MJ_i90jW9ETT"
      },
      "source": [
        "2. Создать матрицу 8 на 10 из случайных целых (используя модуль `numpy.random`) чисел из диапозона от 0 до 10 и найти в ней строку (ее индекс и вывести саму строку), в которой сумма значений минимальна."
      ]
    },
    {
      "cell_type": "code",
      "source": [
        "import random\n",
        "matr1=np.random.randint(0, 11, (8, 10))\n",
        "print(matr1,'\\n')\n",
        "count=0\n",
        "\n",
        "for i in range(len(matr1)):\n",
        "  print(f'Сумма {i+1}-ой строки:',sum(matr1[i]))\n",
        "res = matr1[np.argmin(np.sum(matr1, axis=1))]\n",
        "res0=list(res)\n",
        "for i in range(len(matr1)):\n",
        "  if res0==list(matr1[i]):\n",
        "    break\n",
        "  else:\n",
        "    count+=1\n",
        "print(res, 'индекс строки - ', count)"
      ],
      "metadata": {
        "colab": {
          "base_uri": "https://localhost:8080/"
        },
        "id": "iMI04t1f9OzX",
        "outputId": "948ca921-6007-43ef-becd-5c6b4aecd221"
      },
      "execution_count": null,
      "outputs": [
        {
          "output_type": "stream",
          "name": "stdout",
          "text": [
            "[[ 0  7  5 10 10  7  6  1  5  4]\n",
            " [ 4  4  4  3  2  5  3  3  5  8]\n",
            " [ 8  3  9  3  6  9  6  2  4  6]\n",
            " [ 0  1  0  0  0  8  4  4  0 10]\n",
            " [ 0  3  2  3  2  0  3  8  3  8]\n",
            " [10 10  1 10  2  4  1 10  4  8]\n",
            " [ 0  4  6  0 10  7  8 10  5  0]\n",
            " [ 2  3  7  9  0  3  5  7  1  8]] \n",
            "\n",
            "Сумма 1-ой строки: 55\n",
            "Сумма 2-ой строки: 41\n",
            "Сумма 3-ой строки: 56\n",
            "Сумма 4-ой строки: 27\n",
            "Сумма 5-ой строки: 32\n",
            "Сумма 6-ой строки: 60\n",
            "Сумма 7-ой строки: 50\n",
            "Сумма 8-ой строки: 45\n",
            "[ 0  1  0  0  0  8  4  4  0 10] индекс строки -  3\n"
          ]
        }
      ]
    },
    {
      "cell_type": "markdown",
      "metadata": {
        "id": "PxvBdTji9ETU"
      },
      "source": [
        "3. Найти евклидово расстояние между двумя одномерными векторами одинаковой размерности."
      ]
    },
    {
      "cell_type": "code",
      "source": [
        "point_1 = np.array((0, 0, 0))\n",
        "point_2 = np.array((3, 3, 3))\n",
        "\n",
        "distance = np.linalg.norm(point_1-point_2)\n",
        "print(distance)"
      ],
      "metadata": {
        "colab": {
          "base_uri": "https://localhost:8080/"
        },
        "id": "42RSsE1ynvnA",
        "outputId": "124578a5-2b39-4cb4-bcfc-9e24da2f28c6"
      },
      "execution_count": null,
      "outputs": [
        {
          "output_type": "stream",
          "name": "stdout",
          "text": [
            "5.196152422706632\n"
          ]
        }
      ]
    },
    {
      "cell_type": "markdown",
      "metadata": {
        "id": "KTayDLNa9ETU"
      },
      "source": [
        "4. Решить матричное уравнение `A*X*B=-C` - найти матрицу `X`. Где `A = [[-1, 2, 4], [-3, 1, 2], [-3, 0, 1]]`, `B=[[3, -1], [2, 1]]`, `C=[[7, 21], [11, 8], [8, 4]]`."
      ]
    },
    {
      "cell_type": "code",
      "source": [
        "from numpy import linalg as LA\n",
        "A = np.array([[-1, 2, 4], [-3, 1, 2],[-3, 0, 1]])\n",
        "B = np.array([[3, -1], [2, 1]])\n",
        "C = np.array([[7, 21], [11, 8], [8, 4]])\n",
        "B_inv = LA.inv(B)\n",
        "D=np.dot(-1*C, B_inv)\n",
        "print(np.linalg.solve(A,D))"
      ],
      "metadata": {
        "colab": {
          "base_uri": "https://localhost:8080/"
        },
        "id": "YZgLmYDXovIb",
        "outputId": "5270ed20-ad05-4e43-c2d5-df1da838bee2"
      },
      "execution_count": null,
      "outputs": [
        {
          "output_type": "stream",
          "name": "stdout",
          "text": [
            "[[ 1.00000000e+00  1.11022302e-16]\n",
            " [-2.00000000e+00  1.00000000e+00]\n",
            " [ 3.00000000e+00 -4.00000000e+00]]\n"
          ]
        }
      ]
    },
    {
      "cell_type": "markdown",
      "metadata": {
        "id": "lTVYQWb_9ETV"
      },
      "source": [
        "## Лабораторная работа №1"
      ]
    },
    {
      "cell_type": "markdown",
      "metadata": {
        "id": "mj2w176p9ETV"
      },
      "source": [
        "Замечание: при решении данных задач не подразумевается использования циклов или генераторов Python, если в задании не сказано обратного. Решение должно опираться на использования функционала библиотеки `numpy`."
      ]
    },
    {
      "cell_type": "markdown",
      "metadata": {
        "id": "peRgJm0_9ETV"
      },
      "source": [
        "1. Файл `minutes_n_ingredients.csv` содержит информацию об идентификаторе рецепта, времени его выполнения в минутах и количестве необходимых ингредиентов. Считайте данные из этого файла в виде массива `numpy` типа `int32`, используя `np.loadtxt`. Выведите на экран первые 5 строк массива."
      ]
    },
    {
      "cell_type": "code",
      "source": [
        "array = np.loadtxt('/content/minutes_n_ingredients.csv', delimiter=\",\", dtype='int32', skiprows=1)\n",
        "array[:5]"
      ],
      "metadata": {
        "colab": {
          "base_uri": "https://localhost:8080/"
        },
        "id": "ZU8mY4XIu0rd",
        "outputId": "7f291350-6966-42c6-83e2-52ec5be05fa3"
      },
      "execution_count": 2,
      "outputs": [
        {
          "output_type": "execute_result",
          "data": {
            "text/plain": [
              "array([[127244,     60,     16],\n",
              "       [ 23891,     25,      7],\n",
              "       [ 94746,     10,      6],\n",
              "       [ 67660,      5,      6],\n",
              "       [157911,     60,     14]], dtype=int32)"
            ]
          },
          "metadata": {},
          "execution_count": 2
        }
      ]
    },
    {
      "cell_type": "markdown",
      "metadata": {
        "id": "qHpJH6Jl9ETW"
      },
      "source": [
        "2. Вычислите среднее значение, минимум, максимум и медиану по каждому из столбцов, кроме первого."
      ]
    },
    {
      "cell_type": "code",
      "source": [
        "print('2-ой столбец')\n",
        "print('Минимум -', np.amin(array[:, 1]),\n",
        "      'Максимум -', np.amax(array[:, 1]),\n",
        "      'Медиана -', np.median(array[:, 1]),'\\n')\n",
        "print('3-ий столбец')\n",
        "print('Минимум -', np.amin(array[:, 2]),\n",
        "      'Максимум -', np.amax(array[:, 2]),\n",
        "      'Медиана -', np.median(array[:, 2]),'\\n')"
      ],
      "metadata": {
        "colab": {
          "base_uri": "https://localhost:8080/"
        },
        "id": "vfj4xOXhx8Fk",
        "outputId": "23cada4b-f2b3-478a-b34d-90430ab7af08"
      },
      "execution_count": null,
      "outputs": [
        {
          "output_type": "stream",
          "name": "stdout",
          "text": [
            "2-ой столбец\n",
            "Минимум - 0 Максимум - 2147483647 Медиана - 40.0 \n",
            "\n",
            "3-ий столбец\n",
            "Минимум - 1 Максимум - 39 Медиана - 9.0 \n",
            "\n"
          ]
        }
      ]
    },
    {
      "cell_type": "markdown",
      "metadata": {
        "id": "MHZRhhaA9ETW"
      },
      "source": [
        "3. Ограничьте сверху значения продолжительности выполнения рецепта значением квантиля $q_{0.75}$. "
      ]
    },
    {
      "cell_type": "code",
      "source": [
        "quantile0=np.quantile(array[:, 1], 0.75)\n",
        "print(array[array[:, 1]<=quantile0])"
      ],
      "metadata": {
        "colab": {
          "base_uri": "https://localhost:8080/"
        },
        "id": "LmyWpQa86rLD",
        "outputId": "8080de3d-aeb0-45c2-85c1-6b2c3683f66c"
      },
      "execution_count": null,
      "outputs": [
        {
          "output_type": "stream",
          "name": "stdout",
          "text": [
            "[[127244     60     16]\n",
            " [ 23891     25      7]\n",
            " [ 94746     10      6]\n",
            " ...\n",
            " [ 43407     35      7]\n",
            " [498432     65     15]\n",
            " [370915      5      4]]\n"
          ]
        }
      ]
    },
    {
      "cell_type": "markdown",
      "metadata": {
        "id": "Ig7gA7Wn9ETW"
      },
      "source": [
        "4. Посчитайте, для скольких рецептов указана продолжительность, равная нулю. Замените для таких строк значение в данном столбце на 1."
      ]
    },
    {
      "cell_type": "code",
      "source": [
        "print('Количество рецептов, продолжительность которых - 0 минут: ',np.sum(array==0))\n",
        "array[array==0]=1"
      ],
      "metadata": {
        "colab": {
          "base_uri": "https://localhost:8080/"
        },
        "id": "C_Ucvu0f9IMT",
        "outputId": "1be7a561-36c7-48d0-fc2d-1e61aae1c204"
      },
      "execution_count": null,
      "outputs": [
        {
          "output_type": "stream",
          "name": "stdout",
          "text": [
            "Количество рецептов, продолжительность которых - 0 минут:  479\n"
          ]
        }
      ]
    },
    {
      "cell_type": "markdown",
      "metadata": {
        "id": "8CcxyTtM9ETX"
      },
      "source": [
        "5. Посчитайте, сколько уникальных рецептов находится в датасете."
      ]
    },
    {
      "cell_type": "code",
      "source": [
        "print(f'Количество уникальных рецептов - {len(np.unique(array[:, 0]))}')"
      ],
      "metadata": {
        "colab": {
          "base_uri": "https://localhost:8080/"
        },
        "id": "9bGTsZp-_M94",
        "outputId": "3681c3d8-edba-44dd-a8e7-1aa6f3b1930d"
      },
      "execution_count": null,
      "outputs": [
        {
          "output_type": "stream",
          "name": "stdout",
          "text": [
            "Количество уникальных рецептов - 100000\n"
          ]
        }
      ]
    },
    {
      "cell_type": "markdown",
      "metadata": {
        "id": "AK4eSGhK9ETX"
      },
      "source": [
        "6. Сколько и каких различных значений кол-ва ингредиентов присутвует в рецептах из датасета?"
      ]
    },
    {
      "cell_type": "code",
      "source": [
        "print(f'Количество различных значений кол-ва ингредиентов - {len(np.unique(array[:, 2]))}, значения - {np.unique(array[:, 2])}')"
      ],
      "metadata": {
        "colab": {
          "base_uri": "https://localhost:8080/"
        },
        "id": "4fX_iCkYAf1T",
        "outputId": "c46ab9ee-e9b3-4cdb-b6e5-b59a501b0b64"
      },
      "execution_count": null,
      "outputs": [
        {
          "output_type": "stream",
          "name": "stdout",
          "text": [
            "Количество различных значений кол-ва ингредиентов - 37, значения - [ 1  2  3  4  5  6  7  8  9 10 11 12 13 14 15 16 17 18 19 20 21 22 23 24\n",
            " 25 26 27 28 29 30 31 32 33 34 35 37 39]\n"
          ]
        }
      ]
    },
    {
      "cell_type": "markdown",
      "metadata": {
        "id": "qGZT6L8C9ETX"
      },
      "source": [
        "7. Создайте версию массива, содержащую информацию только о рецептах, состоящих не более чем из 5 ингредиентов."
      ]
    },
    {
      "cell_type": "code",
      "source": [
        "new_array=[array[array[:, 2]<=5]]\n",
        "print(new_array)"
      ],
      "metadata": {
        "colab": {
          "base_uri": "https://localhost:8080/"
        },
        "id": "-6s9mTu1BXJk",
        "outputId": "1b09e609-e3e0-4a78-aa90-421546cee2ab"
      },
      "execution_count": null,
      "outputs": [
        {
          "output_type": "stream",
          "name": "stdout",
          "text": [
            "[array([[446597,     15,      5],\n",
            "       [204134,      5,      3],\n",
            "       [ 25623,      6,      4],\n",
            "       ...,\n",
            "       [ 52088,     60,      5],\n",
            "       [128811,     15,      4],\n",
            "       [370915,      5,      4]], dtype=int32)]\n"
          ]
        }
      ]
    },
    {
      "cell_type": "markdown",
      "metadata": {
        "id": "6EHUH9S59ETX"
      },
      "source": [
        "8. Для каждого рецепта посчитайте, сколько в среднем ингредиентов приходится на одну минуту рецепта. Найдите максимальное значение этой величины для всего датасета"
      ]
    },
    {
      "cell_type": "code",
      "source": [
        "print('Максимальное значение -',np.amax(array[:,2]/array[:,1]))"
      ],
      "metadata": {
        "colab": {
          "base_uri": "https://localhost:8080/"
        },
        "id": "pGDgtaiKMKJh",
        "outputId": "c4f27cdb-2515-4573-a65c-b0e4be285bfd"
      },
      "execution_count": null,
      "outputs": [
        {
          "output_type": "stream",
          "name": "stdout",
          "text": [
            "Максимальное значение - 24.0\n"
          ]
        }
      ]
    },
    {
      "cell_type": "markdown",
      "metadata": {
        "id": "WZQ-mpxc9ETX"
      },
      "source": [
        "9. Вычислите среднее количество ингредиентов для топ-100 рецептов с наибольшей продолжительностью"
      ]
    },
    {
      "cell_type": "code",
      "source": [
        "sorted_array=array[array[:, 1]. argsort()[::-1]]\n",
        "print('Среднее кол-во ингредиентов -', np.average(sorted_array[:100,2]))"
      ],
      "metadata": {
        "colab": {
          "base_uri": "https://localhost:8080/"
        },
        "id": "mX6epYXoREyl",
        "outputId": "d26d2f3e-aef5-4e1b-a9f1-ed2ce5113b39"
      },
      "execution_count": null,
      "outputs": [
        {
          "output_type": "stream",
          "name": "stdout",
          "text": [
            "Среднее кол-во ингредиентов - 6.61\n"
          ]
        }
      ]
    },
    {
      "cell_type": "markdown",
      "metadata": {
        "id": "HbpECHi39ETX"
      },
      "source": [
        "10. Выберите случайным образом и выведите информацию о 10 различных рецептах"
      ]
    },
    {
      "cell_type": "code",
      "source": [
        "random=np.random.randint(array.shape[0],size=10)\n",
        "print(array[random])"
      ],
      "metadata": {
        "colab": {
          "base_uri": "https://localhost:8080/"
        },
        "id": "sJyIJXmVWY1V",
        "outputId": "39ce69dd-f517-4a07-e8e3-735a4862b56f"
      },
      "execution_count": null,
      "outputs": [
        {
          "output_type": "stream",
          "name": "stdout",
          "text": [
            "[[504914      1      7]\n",
            " [132505     25     11]\n",
            " [281185     90     10]\n",
            " [ 70322     20      7]\n",
            " [454880     45     19]\n",
            " [408907     30      8]\n",
            " [186058     35     10]\n",
            " [ 98954     75     27]\n",
            " [352545     37     13]\n",
            " [392389     55     16]]\n"
          ]
        }
      ]
    },
    {
      "cell_type": "markdown",
      "metadata": {
        "id": "qLk4TEiw9ETY"
      },
      "source": [
        "11. Выведите процент рецептов, кол-во ингредиентов в которых меньше среднего."
      ]
    },
    {
      "cell_type": "code",
      "source": [
        "new_array1=array[array[:, 2]<np.mean(array[:,2])]\n",
        "print('Процент рецептов -', len(new_array1)/len(array)*100)"
      ],
      "metadata": {
        "colab": {
          "base_uri": "https://localhost:8080/"
        },
        "id": "TewbQoZrYWWa",
        "outputId": "0dc7596b-845c-49c0-b214-7bcf1c9141af"
      },
      "execution_count": null,
      "outputs": [
        {
          "output_type": "stream",
          "name": "stdout",
          "text": [
            "Процент рецептов - 58.802\n"
          ]
        }
      ]
    },
    {
      "cell_type": "markdown",
      "metadata": {
        "id": "aNJ_8LY29ETY"
      },
      "source": [
        "12. Назовем \"простым\" такой рецепт, длительность выполнения которого не больше 20 минут и кол-во ингредиентов в котором не больше 5. Создайте версию датасета с дополнительным столбцом, значениями которого являются 1, если рецепт простой, и 0 в противном случае."
      ]
    },
    {
      "cell_type": "code",
      "source": [
        "simple_numbers=np.full((100000,1), 0)\n",
        "for i in range(len(array)):\n",
        "  if array[i][1]<=20 and array[i][2]<=5:\n",
        "    simple_numbers[i][0]=1\n",
        "\n",
        "simple_array=np.append(array, simple_numbers, axis=1)\n",
        "simple_array"
      ],
      "metadata": {
        "colab": {
          "base_uri": "https://localhost:8080/"
        },
        "id": "plb1FqmAbOs5",
        "outputId": "60717ae8-c0d1-4e11-e8b6-283c883fddb5"
      },
      "execution_count": 5,
      "outputs": [
        {
          "output_type": "execute_result",
          "data": {
            "text/plain": [
              "array([[127244,     60,     16,      0],\n",
              "       [ 23891,     25,      7,      0],\n",
              "       [ 94746,     10,      6,      0],\n",
              "       ...,\n",
              "       [498432,     65,     15,      0],\n",
              "       [370915,      5,      4,      1],\n",
              "       [ 81993,    140,     14,      0]])"
            ]
          },
          "metadata": {},
          "execution_count": 5
        }
      ]
    },
    {
      "cell_type": "markdown",
      "metadata": {
        "id": "NnMwrGoZ9ETY"
      },
      "source": [
        "13. Выведите процент \"простых\" рецептов в датасете"
      ]
    },
    {
      "cell_type": "code",
      "source": [
        "print('Процент простых рецептов - ',len(simple_array[simple_array[:,3]==1])/len(array)*100)"
      ],
      "metadata": {
        "colab": {
          "base_uri": "https://localhost:8080/"
        },
        "id": "zm94vOT0Id0q",
        "outputId": "4d32684f-fa8d-4fd0-a6f6-7e47ff2f7f5c"
      },
      "execution_count": 6,
      "outputs": [
        {
          "output_type": "stream",
          "name": "stdout",
          "text": [
            "Процент простых рецептов -  9.552\n"
          ]
        }
      ]
    },
    {
      "cell_type": "markdown",
      "metadata": {
        "id": "FQ2Hmr1i9ETY"
      },
      "source": [
        "14. Разделим рецепты на группы по следующему правилу. Назовем рецепты короткими, если их продолжительность составляет менее 10 минут; стандартными, если их продолжительность составляет более 10, но менее 20 минут; и длинными, если их продолжительность составляет не менее 20 минут. Создайте трехмерный массив, где нулевая ось отвечает за номер группы (короткий, стандартный или длинный рецепт), первая ось - за сам рецепт и вторая ось - за характеристики рецепта. Выберите максимальное количество рецептов из каждой группы таким образом, чтобы было возможно сформировать трехмерный массив. Выведите форму полученного массива."
      ]
    },
    {
      "cell_type": "code",
      "source": [
        "group1 = array[array[:,1]<10]\n",
        "group2 = array[np.logical_and(array[:,1]>=10, array[:,1]<20)]\n",
        "group3 = array[array[:,1]>=20]\n",
        "max_num = min(len(group1), len(group2), len(group3))\n",
        "final_array = np.array([[group1[:max_num],group2[:max_num],group3[:max_num]]])\n",
        "print(final_array)"
      ],
      "metadata": {
        "colab": {
          "base_uri": "https://localhost:8080/"
        },
        "id": "tNTg85v2RyQG",
        "outputId": "bc382e95-fe9a-4aef-8cb2-8b98df9f65c0"
      },
      "execution_count": 31,
      "outputs": [
        {
          "output_type": "stream",
          "name": "stdout",
          "text": [
            "[[[[ 67660      5      6]\n",
            "   [366174      7      9]\n",
            "   [204134      5      3]\n",
            "   ...\n",
            "   [420725      5      3]\n",
            "   [  4747      0      9]\n",
            "   [370915      5      4]]\n",
            "\n",
            "  [[ 94746     10      6]\n",
            "   [ 33941     18      9]\n",
            "   [446597     15      5]\n",
            "   ...\n",
            "   [  9831     15      7]\n",
            "   [335859     12     14]\n",
            "   [256812     10      3]]\n",
            "\n",
            "  [[127244     60     16]\n",
            "   [ 23891     25      7]\n",
            "   [157911     60     14]\n",
            "   ...\n",
            "   [168901     25      7]\n",
            "   [392339     35     13]\n",
            "   [206732     45     10]]]]\n"
          ]
        }
      ]
    }
  ],
  "metadata": {
    "kernelspec": {
      "display_name": "Python 3",
      "language": "python",
      "name": "python3"
    },
    "language_info": {
      "codemirror_mode": {
        "name": "ipython",
        "version": 3
      },
      "file_extension": ".py",
      "mimetype": "text/x-python",
      "name": "python",
      "nbconvert_exporter": "python",
      "pygments_lexer": "ipython3",
      "version": "3.7.6"
    },
    "colab": {
      "provenance": []
    }
  },
  "nbformat": 4,
  "nbformat_minor": 0
}